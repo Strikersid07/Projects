{
  "cells": [
    {
      "cell_type": "markdown",
      "metadata": {
        "id": "view-in-github",
        "colab_type": "text"
      },
      "source": [
        "<a href=\"https://colab.research.google.com/github/Strikersid07/Projects/blob/main/Group_2_23_24_FI532E_Financial_Data_Infrastructure_Lending_Club.ipynb\" target=\"_parent\"><img src=\"https://colab.research.google.com/assets/colab-badge.svg\" alt=\"Open In Colab\"/></a>"
      ]
    },
    {
      "cell_type": "markdown",
      "metadata": {
        "id": "mqV1PclVDm0w"
      },
      "source": [
        "\n",
        "#        FINANCIAL DATA INFRASTRUCTURE     \n",
        "##                    Rennes School of Business\n",
        "##                     Group Project Prediction of Default of Loan\n",
        "####       LendingClub | Peer-to-Peer Lending & Alternative Investing\n",
        "                                        Winter 2021\n",
        "\n",
        "\n",
        "\n",
        "\n",
        "\n",
        "The following Paython code is Filter data given various criteria from a big data set of LendingClub.\n",
        "This is a Peer-to-Peer Lending and Alternative Investing business. LendingClub is a US peer-to-peer lending company, headquartered in San Francisco, California. It was the first peer-to-peer lender to register its offerings as securities with the Securities and Exchange Commission (SEC), and to offer loan trading on a secondary market. LendingClub is the world's largest peer-to-peer lending platform. LendingClub enables borrowers to create unsecured personal loans between 1,000 and 40,000 dollars. The standard loan period is three years. Investors can search and browse the loan listings on LendingClub website and select loans that they want to invest in based on the information supplied about the borrower, amount of loan, loan grade, and loan purpose. Investors make money from interest. LendingClub makes money by charging borrowers an origination fee and investors a service fee.The dataset contain complete loan data for all loans issued through the 2007-2015, including the current loan status (Current, Late, Fully Paid, etc.) and latest payment information. Additional features include credit scores, number of finance inquiries, address including zip codes, and state, and collections among others. Each row is divided by an individual loan id and member id, of course, for the interest of privacy each member id has been removed from the dataset.\n",
        "\n",
        "\n",
        "For this task is to identify the most important variables to explain default of loans. To do this you need to develope model in the Spark framework and using textual infomation of description of loan lending club.\n",
        "\n",
        "\n",
        "You can find information about dataset from LCDataDictionary.csv file uploaded to moodle.\n",
        "\n",
        "\n",
        "Report\n",
        "\n",
        "For this task, you need to pick seed number for sampling of data accourding to your group number, and forecast the news labes.\n",
        "\n",
        "\n",
        "##Students name \t  Student No.\t      \n",
        "##1. KHARB Shantnu - ETU20230074\n",
        "## 2. VERMA Ish - ETU20232180\n",
        "## 3. SHARMA Siddharth - ETU20230076\n",
        "## 4. BHARDWAJ SANJAY -ETU20232122\n",
        "## 5. MISHRA Gourav - ETU20221420\n",
        "##Group: 2\n"
      ]
    },
    {
      "cell_type": "markdown",
      "metadata": {
        "id": "1LLNP79f7sy4"
      },
      "source": [
        "The dataset contain complete loan data for all loans issued through the 2007-2015, including the current loan status (Current, Late, Fully Paid, etc.) and latest payment information. Additional features include credit scores, number of finance inquiries, address including zip codes, and state, and collections among others. Each row is divided by an individual loan id and member id, of course, for the interest of privacy each member id has been removed from the dataset.\n",
        "\n",
        "* loan_status:\n",
        "* loan_amnt: The listed amount of the loan applied for by the borrower. If at some point in time, the credit department reduces the loan amount, then it will be reflected in this value.\n",
        "* funded_amnt: The total amount funded by investors for that loan at that point in time.\n",
        "* term: The Number of payments on the loan. Values are in months and can be either 36 or 60.\n",
        "* grade: LC assigned loan grade\n",
        "* sub_grade: LC assigned loan subgrade\n",
        "* home_ownership: The home ownership status provided by the borrower during registration or obtained from the credit report. Our values are: RENT, OWN, MORTGAGE, OTHER\n",
        "* verification_status: The status of the loan during the listing period. Values: APPROVED, NOT_APPROVED.\n",
        "* purpose: A category provided by the borrower for the loan request. Values are: debt_consolidation, medical, home_improvement, renewable_energy, small_business, wedding, vacation, moving, house, car, major_purchase, credit_card, other\n",
        "* emp_length: Employment length in months. Possible values are whole numbers from 0 and higher. Null indicates not employed.\n",
        "* int_rate: Interest Rate on the loan\n",
        "* annual_inc: The annual income provided by the borrower during registration.\n",
        "* dti: The borrower's debt to income ratio, calculated using the monthly payments on the total debt obligations, excluding mortgage, divided by self-reported monthly income.\n",
        "* inq_last_6mths: information from the bureau last 6 months\n",
        "* pub_rec: it indicates risk and hurts your ability to qualify for credit, obligations that were not paid\n",
        "* revol_bal: sometimes a full payment doesn’t (or can’t) happen, The amount of credit you have versus the amount of credit you use is a factor in your credit score\n",
        "* revol_util: the amount of credit the borrower is using relative to all available revolving credit.\n",
        "* total_acc: The total Number of credit lines currently in the borrower's credit file\n",
        "* total_pymnt: The total payment currently\n",
        "* total_pymnt_inv: The total payment currently of investment\n",
        "* total_rec_prncp:\n",
        "* total_rec_int:  interest of recollect total."
      ]
    },
    {
      "cell_type": "markdown",
      "metadata": {
        "id": "FhWHq2aaQlB3"
      },
      "source": [
        "### Running Pyspark in Colab\n",
        "\n",
        "To run spark in Colab, we need to first install all the dependencies in Colab environment i.e. Apache Spark 2.3.2 with hadoop 2.7, Java 8 and Findspark to locate the spark in the system. The tools installation can be carried out inside the Jupyter Notebook of the Colab. One important note is that if you are new in Spark, it is better to avoid Spark 2.4.0 version since some people have already complained about its compatibility issue with python.\n",
        "Follow the steps to install the dependencies:"
      ]
    },
    {
      "cell_type": "code",
      "execution_count": null,
      "metadata": {
        "colab": {
          "base_uri": "https://localhost:8080/"
        },
        "id": "Au52f6-uG6pL",
        "outputId": "fa18cb43-cf02-412d-e942-fbf40ff09e2c"
      },
      "outputs": [
        {
          "output_type": "stream",
          "name": "stdout",
          "text": [
            "openjdk version \"1.8.0_402\"\n",
            "OpenJDK Runtime Environment (build 1.8.0_402-8u402-ga-2ubuntu1~22.04-b06)\n",
            "OpenJDK 64-Bit Server VM (build 25.402-b06, mixed mode)\n",
            "Collecting pyspark\n",
            "  Downloading pyspark-3.5.1.tar.gz (317.0 MB)\n",
            "\u001b[2K     \u001b[90m━━━━━━━━━━━━━━━━━━━━━━━━━━━━━━━━━━━━━━━━\u001b[0m \u001b[32m317.0/317.0 MB\u001b[0m \u001b[31m1.5 MB/s\u001b[0m eta \u001b[36m0:00:00\u001b[0m\n",
            "\u001b[?25h  Preparing metadata (setup.py) ... \u001b[?25l\u001b[?25hdone\n",
            "Collecting py4j==0.10.9.7 (from pyspark)\n",
            "  Downloading py4j-0.10.9.7-py2.py3-none-any.whl (200 kB)\n",
            "\u001b[2K     \u001b[90m━━━━━━━━━━━━━━━━━━━━━━━━━━━━━━━━━━━━━━━━\u001b[0m \u001b[32m200.5/200.5 kB\u001b[0m \u001b[31m14.5 MB/s\u001b[0m eta \u001b[36m0:00:00\u001b[0m\n",
            "\u001b[?25hBuilding wheels for collected packages: pyspark\n",
            "  Building wheel for pyspark (setup.py) ... \u001b[?25l\u001b[?25hdone\n",
            "  Created wheel for pyspark: filename=pyspark-3.5.1-py2.py3-none-any.whl size=317488491 sha256=2c3799e3b5171797058ad27b93aff07cbb7c6bd15c1e6ee9a857989fab2fbcbb\n",
            "  Stored in directory: /root/.cache/pip/wheels/80/1d/60/2c256ed38dddce2fdd93be545214a63e02fbd8d74fb0b7f3a6\n",
            "Successfully built pyspark\n",
            "Installing collected packages: py4j, pyspark\n",
            "Successfully installed py4j-0.10.9.7 pyspark-3.5.1\n",
            "Collecting spark-nlp\n",
            "  Downloading spark_nlp-5.3.3-py2.py3-none-any.whl (568 kB)\n",
            "\u001b[2K     \u001b[90m━━━━━━━━━━━━━━━━━━━━━━━━━━━━━━━━━━━━━━━━\u001b[0m \u001b[32m568.4/568.4 kB\u001b[0m \u001b[31m3.5 MB/s\u001b[0m eta \u001b[36m0:00:00\u001b[0m\n",
            "\u001b[?25hInstalling collected packages: spark-nlp\n",
            "Successfully installed spark-nlp-5.3.3\n"
          ]
        }
      ],
      "source": [
        "import os\n",
        "\n",
        "# Install java\n",
        "! apt-get update -qq\n",
        "! apt-get install -y openjdk-8-jdk-headless -qq > /dev/null\n",
        "\n",
        "os.environ[\"JAVA_HOME\"] = \"/usr/lib/jvm/java-8-openjdk-amd64\"\n",
        "os.environ[\"PATH\"] = os.environ[\"JAVA_HOME\"] + \"/bin:\" + os.environ[\"PATH\"]\n",
        "! java -version\n",
        "\n",
        "# Install pyspark\n",
        "! pip install --ignore-installed pyspark\n",
        "\n",
        "# Install Spark NLP\n",
        "! pip install --ignore-installed spark-nlp"
      ]
    },
    {
      "cell_type": "code",
      "execution_count": null,
      "metadata": {
        "id": "pDKbzk_PdTPq"
      },
      "outputs": [],
      "source": [
        "#Imports\n",
        "\n",
        "import sys\n",
        "sys.path.append('../../')\n",
        "\n",
        "import sparknlp\n",
        "\n",
        "from pyspark.sql import SparkSession\n",
        "from pyspark.ml import Pipeline\n",
        "from pyspark.sql.functions import array_contains\n",
        "from sparknlp.annotator import *\n",
        "from sparknlp.common import RegexRule\n",
        "from sparknlp.base import DocumentAssembler, Finisher"
      ]
    },
    {
      "cell_type": "code",
      "execution_count": null,
      "metadata": {
        "colab": {
          "base_uri": "https://localhost:8080/"
        },
        "id": "JwlzkFT3HrF5",
        "outputId": "8e276fe4-aa1a-4b20-9980-46d2339478b5"
      },
      "outputs": [
        {
          "output_type": "stream",
          "name": "stdout",
          "text": [
            "Spark NLP version:  5.3.3\n",
            "Apache Spark version:  3.5.1\n"
          ]
        }
      ],
      "source": [
        "import sparknlp\n",
        "\n",
        "spark = sparknlp.start()\n",
        "\n",
        "print(\"Spark NLP version: \", sparknlp.version())\n",
        "print(\"Apache Spark version: \", spark.version)"
      ]
    },
    {
      "cell_type": "code",
      "execution_count": null,
      "metadata": {
        "id": "Q9BA5QlEDlEm"
      },
      "outputs": [],
      "source": [
        "from pyspark.ml.classification import OneVsRest\n",
        "from pyspark.ml.feature import ChiSqSelector\n",
        "from pyspark.ml.classification import RandomForestClassifier,LogisticRegression\n",
        "from pyspark.ml.evaluation import MulticlassClassificationEvaluator\n",
        "\n",
        "from pyspark.ml.feature import HashingTF, IDF, StringIndexer, SQLTransformer,IndexToString\n",
        "\n",
        "import pandas as pd\n",
        "from pyspark import SparkContext\n",
        "from pyspark.sql import SQLContext\n",
        "from pyspark.sql.types import *\n",
        "from pyspark.ml.feature import NGram"
      ]
    },
    {
      "cell_type": "code",
      "execution_count": null,
      "metadata": {
        "colab": {
          "base_uri": "https://localhost:8080/"
        },
        "id": "XM36IdwhASRT",
        "outputId": "2b4d6ef1-38ad-47ef-af5d-31b501045b20"
      },
      "outputs": [
        {
          "output_type": "stream",
          "name": "stdout",
          "text": [
            "root\n",
            " |-- id: string (nullable = true)\n",
            " |-- member_id: string (nullable = true)\n",
            " |-- loan_amnt: string (nullable = true)\n",
            " |-- funded_amnt: string (nullable = true)\n",
            " |-- funded_amnt_inv: string (nullable = true)\n",
            " |-- term: string (nullable = true)\n",
            " |-- int_rate: string (nullable = true)\n",
            " |-- installment: string (nullable = true)\n",
            " |-- grade: string (nullable = true)\n",
            " |-- sub_grade: string (nullable = true)\n",
            " |-- emp_title: string (nullable = true)\n",
            " |-- emp_length: string (nullable = true)\n",
            " |-- home_ownership: string (nullable = true)\n",
            " |-- annual_inc: string (nullable = true)\n",
            " |-- verification_status: string (nullable = true)\n",
            " |-- issue_d: string (nullable = true)\n",
            " |-- loan_status: string (nullable = true)\n",
            " |-- pymnt_plan: string (nullable = true)\n",
            " |-- url: string (nullable = true)\n",
            " |-- desc: string (nullable = true)\n",
            " |-- purpose: string (nullable = true)\n",
            " |-- title: string (nullable = true)\n",
            " |-- zip_code: string (nullable = true)\n",
            " |-- addr_state: string (nullable = true)\n",
            " |-- dti: string (nullable = true)\n",
            " |-- delinq_2yrs: string (nullable = true)\n",
            " |-- earliest_cr_line: string (nullable = true)\n",
            " |-- inq_last_6mths: string (nullable = true)\n",
            " |-- mths_since_last_delinq: string (nullable = true)\n",
            " |-- mths_since_last_record: string (nullable = true)\n",
            " |-- open_acc: string (nullable = true)\n",
            " |-- pub_rec: string (nullable = true)\n",
            " |-- revol_bal: string (nullable = true)\n",
            " |-- revol_util: string (nullable = true)\n",
            " |-- total_acc: string (nullable = true)\n",
            " |-- initial_list_status: string (nullable = true)\n",
            " |-- out_prncp: string (nullable = true)\n",
            " |-- out_prncp_inv: string (nullable = true)\n",
            " |-- total_pymnt: string (nullable = true)\n",
            " |-- total_pymnt_inv: string (nullable = true)\n",
            " |-- total_rec_prncp: string (nullable = true)\n",
            " |-- total_rec_int: string (nullable = true)\n",
            " |-- total_rec_late_fee: string (nullable = true)\n",
            " |-- recoveries: string (nullable = true)\n",
            " |-- collection_recovery_fee: string (nullable = true)\n",
            " |-- last_pymnt_d: string (nullable = true)\n",
            " |-- last_pymnt_amnt: string (nullable = true)\n",
            " |-- next_pymnt_d: string (nullable = true)\n",
            " |-- last_credit_pull_d: string (nullable = true)\n",
            " |-- collections_12_mths_ex_med: string (nullable = true)\n",
            " |-- mths_since_last_major_derog: string (nullable = true)\n",
            " |-- policy_code: string (nullable = true)\n",
            " |-- application_type: string (nullable = true)\n",
            " |-- annual_inc_joint: string (nullable = true)\n",
            " |-- dti_joint: string (nullable = true)\n",
            " |-- verification_status_joint: string (nullable = true)\n",
            " |-- acc_now_delinq: string (nullable = true)\n",
            " |-- tot_coll_amt: string (nullable = true)\n",
            " |-- tot_cur_bal: string (nullable = true)\n",
            " |-- open_acc_6m: string (nullable = true)\n",
            " |-- open_il_6m: string (nullable = true)\n",
            " |-- open_il_12m: string (nullable = true)\n",
            " |-- open_il_24m: string (nullable = true)\n",
            " |-- mths_since_rcnt_il: string (nullable = true)\n",
            " |-- total_bal_il: string (nullable = true)\n",
            " |-- il_util: string (nullable = true)\n",
            " |-- open_rv_12m: string (nullable = true)\n",
            " |-- open_rv_24m: string (nullable = true)\n",
            " |-- max_bal_bc: string (nullable = true)\n",
            " |-- all_util: string (nullable = true)\n",
            " |-- total_rev_hi_lim: string (nullable = true)\n",
            " |-- inq_fi: string (nullable = true)\n",
            " |-- total_cu_tl: string (nullable = true)\n",
            " |-- inq_last_12m: string (nullable = true)\n",
            "\n",
            "887379\n"
          ]
        }
      ],
      "source": [
        "##Import csv files Survey and species to Spark\n",
        "## It will take a long time to upload data\n",
        "\n",
        "df_lending_club_loans = spark.read.format(\"csv\").options(header='true', delimiter = ',').load(\"/content/Lending Club Loan Data_Lending Club - loan.csv\")\n",
        "# print structure of data\n",
        "df_lending_club_loans.printSchema()\n",
        "print(df_lending_club_loans.count())"
      ]
    },
    {
      "cell_type": "code",
      "execution_count": null,
      "metadata": {
        "colab": {
          "base_uri": "https://localhost:8080/"
        },
        "id": "NDg8OHqwxnno",
        "outputId": "7bdcf2a1-cad4-4b17-95a1-522fb6f2cbba"
      },
      "outputs": [
        {
          "output_type": "stream",
          "name": "stdout",
          "text": [
            "+-------+---------+---------+-----------+---------------+----------+--------+-----------+-----+---------+--------------------+----------+--------------+----------+-------------------+--------+-----------+----------+--------------------+--------------------+--------------+--------------------+--------+----------+-----+-----------+----------------+--------------+----------------------+----------------------+--------+-------+---------+----------+---------+-------------------+---------+-------------+-------------+---------------+---------------+-------------+------------------+----------+-----------------------+------------+---------------+------------+------------------+--------------------------+---------------------------+-----------+----------------+----------------+---------+-------------------------+--------------+------------+-----------+-----------+----------+-----------+-----------+------------------+------------+-------+-----------+-----------+----------+--------+----------------+------+-----------+------------+\n",
            "|     id|member_id|loan_amnt|funded_amnt|funded_amnt_inv|      term|int_rate|installment|grade|sub_grade|           emp_title|emp_length|home_ownership|annual_inc|verification_status| issue_d|loan_status|pymnt_plan|                 url|                desc|       purpose|               title|zip_code|addr_state|  dti|delinq_2yrs|earliest_cr_line|inq_last_6mths|mths_since_last_delinq|mths_since_last_record|open_acc|pub_rec|revol_bal|revol_util|total_acc|initial_list_status|out_prncp|out_prncp_inv|  total_pymnt|total_pymnt_inv|total_rec_prncp|total_rec_int|total_rec_late_fee|recoveries|collection_recovery_fee|last_pymnt_d|last_pymnt_amnt|next_pymnt_d|last_credit_pull_d|collections_12_mths_ex_med|mths_since_last_major_derog|policy_code|application_type|annual_inc_joint|dti_joint|verification_status_joint|acc_now_delinq|tot_coll_amt|tot_cur_bal|open_acc_6m|open_il_6m|open_il_12m|open_il_24m|mths_since_rcnt_il|total_bal_il|il_util|open_rv_12m|open_rv_24m|max_bal_bc|all_util|total_rev_hi_lim|inq_fi|total_cu_tl|inq_last_12m|\n",
            "+-------+---------+---------+-----------+---------------+----------+--------+-----------+-----+---------+--------------------+----------+--------------+----------+-------------------+--------+-----------+----------+--------------------+--------------------+--------------+--------------------+--------+----------+-----+-----------+----------------+--------------+----------------------+----------------------+--------+-------+---------+----------+---------+-------------------+---------+-------------+-------------+---------------+---------------+-------------+------------------+----------+-----------------------+------------+---------------+------------+------------------+--------------------------+---------------------------+-----------+----------------+----------------+---------+-------------------------+--------------+------------+-----------+-----------+----------+-----------+-----------+------------------+------------+-------+-----------+-----------+----------+--------+----------------+------+-----------+------------+\n",
            "|1077501|  1296599|   5000.0|     5000.0|         4975.0| 36 months|   10.65|     162.87|    B|       B2|                NULL| 10+ years|          RENT|   24000.0|           Verified|Dec-2011| Fully Paid|         n|https://www.lendi...|  Borrower added ...|   credit_card|            Computer|   860xx|        AZ|27.65|        0.0|        Jan-1985|           1.0|                  NULL|                  NULL|     3.0|    0.0|  13648.0|      83.7|      9.0|                  f|      0.0|          0.0|5861.07141425|        5831.78|         5000.0|       861.07|               0.0|       0.0|                    0.0|    Jan-2015|         171.62|        NULL|          Jan-2016|                       0.0|                       NULL|        1.0|      INDIVIDUAL|            NULL|     NULL|                     NULL|           0.0|        NULL|       NULL|       NULL|      NULL|       NULL|       NULL|              NULL|        NULL|   NULL|       NULL|       NULL|      NULL|    NULL|            NULL|  NULL|       NULL|        NULL|\n",
            "|1077430|  1314167|   2500.0|     2500.0|         2500.0| 60 months|   15.27|      59.83|    C|       C4|               Ryder|  < 1 year|          RENT|   30000.0|    Source Verified|Dec-2011|Charged Off|         n|https://www.lendi...|  Borrower added ...|           car|                bike|   309xx|        GA|  1.0|        0.0|        Apr-1999|           5.0|                  NULL|                  NULL|     3.0|    0.0|   1687.0|       9.4|      4.0|                  f|      0.0|          0.0|      1008.71|        1008.71|         456.46|       435.17|               0.0|    117.08|                   1.11|    Apr-2013|         119.66|        NULL|          Sep-2013|                       0.0|                       NULL|        1.0|      INDIVIDUAL|            NULL|     NULL|                     NULL|           0.0|        NULL|       NULL|       NULL|      NULL|       NULL|       NULL|              NULL|        NULL|   NULL|       NULL|       NULL|      NULL|    NULL|            NULL|  NULL|       NULL|        NULL|\n",
            "|1077175|  1313524|   2400.0|     2400.0|         2400.0| 36 months|   15.96|      84.33|    C|       C5|                NULL| 10+ years|          RENT|   12252.0|       Not Verified|Dec-2011| Fully Paid|         n|https://www.lendi...|                NULL|small_business|real estate business|   606xx|        IL| 8.72|        0.0|        Nov-2001|           2.0|                  NULL|                  NULL|     2.0|    0.0|   2956.0|      98.5|     10.0|                  f|      0.0|          0.0|3003.65364445|        3003.65|         2400.0|       603.65|               0.0|       0.0|                    0.0|    Jun-2014|         649.91|        NULL|          Jan-2016|                       0.0|                       NULL|        1.0|      INDIVIDUAL|            NULL|     NULL|                     NULL|           0.0|        NULL|       NULL|       NULL|      NULL|       NULL|       NULL|              NULL|        NULL|   NULL|       NULL|       NULL|      NULL|    NULL|            NULL|  NULL|       NULL|        NULL|\n",
            "|1076863|  1277178|  10000.0|    10000.0|        10000.0| 36 months|   13.49|     339.31|    C|       C1| AIR RESOURCES BOARD| 10+ years|          RENT|   49200.0|    Source Verified|Dec-2011| Fully Paid|         n|https://www.lendi...|  Borrower added ...|         other|            personel|   917xx|        CA| 20.0|        0.0|        Feb-1996|           1.0|                  35.0|                  NULL|    10.0|    0.0|   5598.0|      21.0|     37.0|                  f|      0.0|          0.0|12226.3022123|        12226.3|        10000.0|      2209.33|             16.97|       0.0|                    0.0|    Jan-2015|         357.48|        NULL|          Jan-2015|                       0.0|                       NULL|        1.0|      INDIVIDUAL|            NULL|     NULL|                     NULL|           0.0|        NULL|       NULL|       NULL|      NULL|       NULL|       NULL|              NULL|        NULL|   NULL|       NULL|       NULL|      NULL|    NULL|            NULL|  NULL|       NULL|        NULL|\n",
            "|1075358|  1311748|   3000.0|     3000.0|         3000.0| 60 months|   12.69|      67.79|    B|       B5|University Medica...|    1 year|          RENT|   80000.0|    Source Verified|Dec-2011|    Current|         n|https://www.lendi...|  Borrower added ...|         other|            Personal|   972xx|        OR|17.94|        0.0|        Jan-1996|           0.0|                  38.0|                  NULL|    15.0|    0.0|  27783.0|      53.9|     38.0|                  f|    766.9|        766.9|      3242.17|        3242.17|         2233.1|      1009.07|               0.0|       0.0|                    0.0|    Jan-2016|          67.79|    Feb-2016|          Jan-2016|                       0.0|                       NULL|        1.0|      INDIVIDUAL|            NULL|     NULL|                     NULL|           0.0|        NULL|       NULL|       NULL|      NULL|       NULL|       NULL|              NULL|        NULL|   NULL|       NULL|       NULL|      NULL|    NULL|            NULL|  NULL|       NULL|        NULL|\n",
            "+-------+---------+---------+-----------+---------------+----------+--------+-----------+-----+---------+--------------------+----------+--------------+----------+-------------------+--------+-----------+----------+--------------------+--------------------+--------------+--------------------+--------+----------+-----+-----------+----------------+--------------+----------------------+----------------------+--------+-------+---------+----------+---------+-------------------+---------+-------------+-------------+---------------+---------------+-------------+------------------+----------+-----------------------+------------+---------------+------------+------------------+--------------------------+---------------------------+-----------+----------------+----------------+---------+-------------------------+--------------+------------+-----------+-----------+----------+-----------+-----------+------------------+------------+-------+-----------+-----------+----------+--------+----------------+------+-----------+------------+\n",
            "only showing top 5 rows\n",
            "\n"
          ]
        }
      ],
      "source": [
        "df_lending_club_loans.show(5)"
      ]
    },
    {
      "cell_type": "markdown",
      "metadata": {
        "id": "ubTu4fDKs-Ty"
      },
      "source": [
        "##DATA MANUPULATION FROM SQL"
      ]
    },
    {
      "cell_type": "code",
      "execution_count": null,
      "metadata": {
        "id": "M58TAx9_r0Nj"
      },
      "outputs": [],
      "source": [
        "## Create a view to work with data\n",
        "df_lending_club_loans.createOrReplaceTempView(\"club_loans\")"
      ]
    },
    {
      "cell_type": "code",
      "execution_count": null,
      "metadata": {
        "colab": {
          "base_uri": "https://localhost:8080/"
        },
        "id": "DWauTULBr0Hw",
        "outputId": "6b186c6e-f607-4e00-be3f-bc733fbd3221"
      },
      "outputs": [
        {
          "output_type": "stream",
          "name": "stdout",
          "text": [
            "+-------+---------+---------+-----------+---------------+----------+--------+-----------+-----+---------+---------+----------+--------------+----------+-------------------+--------+-----------+----------+--------------------+--------------------+--------------+--------------------+--------+----------+-----+-----------+----------------+--------------+----------------------+----------------------+--------+-------+---------+----------+---------+-------------------+---------+-------------+-------------+---------------+---------------+-------------+------------------+----------+-----------------------+------------+---------------+------------+------------------+--------------------------+---------------------------+-----------+----------------+----------------+---------+-------------------------+--------------+------------+-----------+-----------+----------+-----------+-----------+------------------+------------+-------+-----------+-----------+----------+--------+----------------+------+-----------+------------+\n",
            "|     id|member_id|loan_amnt|funded_amnt|funded_amnt_inv|      term|int_rate|installment|grade|sub_grade|emp_title|emp_length|home_ownership|annual_inc|verification_status| issue_d|loan_status|pymnt_plan|                 url|                desc|       purpose|               title|zip_code|addr_state|  dti|delinq_2yrs|earliest_cr_line|inq_last_6mths|mths_since_last_delinq|mths_since_last_record|open_acc|pub_rec|revol_bal|revol_util|total_acc|initial_list_status|out_prncp|out_prncp_inv|  total_pymnt|total_pymnt_inv|total_rec_prncp|total_rec_int|total_rec_late_fee|recoveries|collection_recovery_fee|last_pymnt_d|last_pymnt_amnt|next_pymnt_d|last_credit_pull_d|collections_12_mths_ex_med|mths_since_last_major_derog|policy_code|application_type|annual_inc_joint|dti_joint|verification_status_joint|acc_now_delinq|tot_coll_amt|tot_cur_bal|open_acc_6m|open_il_6m|open_il_12m|open_il_24m|mths_since_rcnt_il|total_bal_il|il_util|open_rv_12m|open_rv_24m|max_bal_bc|all_util|total_rev_hi_lim|inq_fi|total_cu_tl|inq_last_12m|\n",
            "+-------+---------+---------+-----------+---------------+----------+--------+-----------+-----+---------+---------+----------+--------------+----------+-------------------+--------+-----------+----------+--------------------+--------------------+--------------+--------------------+--------+----------+-----+-----------+----------------+--------------+----------------------+----------------------+--------+-------+---------+----------+---------+-------------------+---------+-------------+-------------+---------------+---------------+-------------+------------------+----------+-----------------------+------------+---------------+------------+------------------+--------------------------+---------------------------+-----------+----------------+----------------+---------+-------------------------+--------------+------------+-----------+-----------+----------+-----------+-----------+------------------+------------+-------+-----------+-----------+----------+--------+----------------+------+-----------+------------+\n",
            "|1077501|  1296599|   5000.0|     5000.0|         4975.0| 36 months|   10.65|     162.87|    B|       B2|     NULL| 10+ years|          RENT|   24000.0|           Verified|Dec-2011| Fully Paid|         n|https://www.lendi...|  Borrower added ...|   credit_card|            Computer|   860xx|        AZ|27.65|        0.0|        Jan-1985|           1.0|                  NULL|                  NULL|     3.0|    0.0|  13648.0|      83.7|      9.0|                  f|      0.0|          0.0|5861.07141425|        5831.78|         5000.0|       861.07|               0.0|       0.0|                    0.0|    Jan-2015|         171.62|        NULL|          Jan-2016|                       0.0|                       NULL|        1.0|      INDIVIDUAL|            NULL|     NULL|                     NULL|           0.0|        NULL|       NULL|       NULL|      NULL|       NULL|       NULL|              NULL|        NULL|   NULL|       NULL|       NULL|      NULL|    NULL|            NULL|  NULL|       NULL|        NULL|\n",
            "|1077430|  1314167|   2500.0|     2500.0|         2500.0| 60 months|   15.27|      59.83|    C|       C4|    Ryder|  < 1 year|          RENT|   30000.0|    Source Verified|Dec-2011|Charged Off|         n|https://www.lendi...|  Borrower added ...|           car|                bike|   309xx|        GA|  1.0|        0.0|        Apr-1999|           5.0|                  NULL|                  NULL|     3.0|    0.0|   1687.0|       9.4|      4.0|                  f|      0.0|          0.0|      1008.71|        1008.71|         456.46|       435.17|               0.0|    117.08|                   1.11|    Apr-2013|         119.66|        NULL|          Sep-2013|                       0.0|                       NULL|        1.0|      INDIVIDUAL|            NULL|     NULL|                     NULL|           0.0|        NULL|       NULL|       NULL|      NULL|       NULL|       NULL|              NULL|        NULL|   NULL|       NULL|       NULL|      NULL|    NULL|            NULL|  NULL|       NULL|        NULL|\n",
            "|1077175|  1313524|   2400.0|     2400.0|         2400.0| 36 months|   15.96|      84.33|    C|       C5|     NULL| 10+ years|          RENT|   12252.0|       Not Verified|Dec-2011| Fully Paid|         n|https://www.lendi...|                NULL|small_business|real estate business|   606xx|        IL| 8.72|        0.0|        Nov-2001|           2.0|                  NULL|                  NULL|     2.0|    0.0|   2956.0|      98.5|     10.0|                  f|      0.0|          0.0|3003.65364445|        3003.65|         2400.0|       603.65|               0.0|       0.0|                    0.0|    Jun-2014|         649.91|        NULL|          Jan-2016|                       0.0|                       NULL|        1.0|      INDIVIDUAL|            NULL|     NULL|                     NULL|           0.0|        NULL|       NULL|       NULL|      NULL|       NULL|       NULL|              NULL|        NULL|   NULL|       NULL|       NULL|      NULL|    NULL|            NULL|  NULL|       NULL|        NULL|\n",
            "+-------+---------+---------+-----------+---------------+----------+--------+-----------+-----+---------+---------+----------+--------------+----------+-------------------+--------+-----------+----------+--------------------+--------------------+--------------+--------------------+--------+----------+-----+-----------+----------------+--------------+----------------------+----------------------+--------+-------+---------+----------+---------+-------------------+---------+-------------+-------------+---------------+---------------+-------------+------------------+----------+-----------------------+------------+---------------+------------+------------------+--------------------------+---------------------------+-----------+----------------+----------------+---------+-------------------------+--------------+------------+-----------+-----------+----------+-----------+-----------+------------------+------------+-------+-----------+-----------+----------+--------+----------------+------+-----------+------------+\n",
            "only showing top 3 rows\n",
            "\n"
          ]
        }
      ],
      "source": [
        "# Check first five observations of club_loans\n",
        "spark.sql(\"select * from club_loans\").show(3)"
      ]
    },
    {
      "cell_type": "code",
      "execution_count": null,
      "metadata": {
        "colab": {
          "base_uri": "https://localhost:8080/"
        },
        "id": "SgUaGaD5wPLx",
        "outputId": "d1d1c670-16a0-4e5b-a57e-ac101768e884"
      },
      "outputs": [
        {
          "output_type": "stream",
          "name": "stdout",
          "text": [
            "+--------------------+--------+\n",
            "|         loan_status|count(1)|\n",
            "+--------------------+--------+\n",
            "|         Charged Off|   45248|\n",
            "|             Current|  601778|\n",
            "|             Default|    1219|\n",
            "|Does not meet the...|     761|\n",
            "|Does not meet the...|    1988|\n",
            "|          Fully Paid|  207723|\n",
            "|     In Grace Period|    6253|\n",
            "|              Issued|    8460|\n",
            "|   Late (16-30 days)|    2357|\n",
            "|  Late (31-120 days)|   11591|\n",
            "|            Oct-2015|       1|\n",
            "+--------------------+--------+\n",
            "\n"
          ]
        }
      ],
      "source": [
        "# Count number of loans by grouping loan_status\n",
        "# Explain your findings (You can focus on Default)\n",
        "\n",
        "spark.sql(\"select loan_status, count(*)\\\n",
        " from club_loans group by loan_status order by loan_status\").show()\n",
        "\n",
        "\n",
        "\n",
        "#According to the data\n",
        "\n",
        "#1. Charged Off: Of all the loans, 45,248 are designated as \"Charged Off,\" making up roughly 5.10% of the total. \"Charged Off\" usually means that the debt has been written off as a loss by the lender since they believe it is unlikely to be repaid.\n",
        "#2. Current: Of all the loans, 601,779 are classified as \"Current,\" or roughly 67.82% of the total amount of loans. The \"current\" status denotes that the loan is being repaid in accordance with the conditions of the contract at this time.\n",
        "#3. Default: Of all the loans, 1,219 are classified as \"Default,\" or around 0.14% of the total. Loans that are in \"Default\" status have not been repaid, which puts the lender at greater risk of loss.\n",
        "#4. Fully Paid: Of all loans, 207,723 are classified as \"Fully Paid,\" making up roughly 23.41% of the total. The status \"Fully Paid\" denotes that the loan has been satisfactorily repaid in full by the borrower.\n",
        "#5. Late (16-30 days) and Late (31-120 days): In total, 13,948 loans bear the designations \"Late (16-30 days)\" or \"Late (31-120 days),\" accounting for roughly 1.58% of all loans. These statuses show different degrees of delinquent in the borrower's missing payments.\n",
        "#6. Other statuses: A lesser proportion of loans are in statuses like \"Does not meet the credit policy,\" \"In Grace Period,\" and \"Issued,\" each of which accounts for a smaller portion of the overall number of loans."
      ]
    },
    {
      "cell_type": "code",
      "execution_count": null,
      "metadata": {
        "colab": {
          "base_uri": "https://localhost:8080/"
        },
        "id": "gWoxDv8mSutC",
        "outputId": "4b728500-465f-4f38-b48c-b1038143d8d5"
      },
      "outputs": [
        {
          "output_type": "stream",
          "name": "stdout",
          "text": [
            "+-----+--------+\n",
            "|grade|count(1)|\n",
            "+-----+--------+\n",
            "|    A|  148202|\n",
            "|    B|  254535|\n",
            "|    C|  245860|\n",
            "|    D|  139542|\n",
            "|    E|   70705|\n",
            "|    F|   23046|\n",
            "|    G|    5489|\n",
            "+-----+--------+\n",
            "\n",
            "+---------+--------+\n",
            "|sub_grade|count(1)|\n",
            "+---------+--------+\n",
            "|       D5|   21389|\n",
            "|       F2|    5392|\n",
            "|       B4|   55626|\n",
            "|       A2|   22485|\n",
            "|       E4|   11724|\n",
            "|       B2|   48781|\n",
            "|       C3|   50161|\n",
            "|       D1|   36238|\n",
            "|       C4|   48857|\n",
            "|       F1|    7218|\n",
            "|       D3|   26554|\n",
            "|       F5|    2594|\n",
            "|       G2|    1398|\n",
            "|       B1|   44972|\n",
            "|       B3|   56323|\n",
            "|       E5|    9575|\n",
            "|       C5|   41219|\n",
            "|       G3|     981|\n",
            "|       A4|   34531|\n",
            "|       F4|    3409|\n",
            "+---------+--------+\n",
            "only showing top 20 rows\n",
            "\n"
          ]
        }
      ],
      "source": [
        "# Group data by grade\n",
        "#The credit rating of the customers is given by grade variable. The Lending Club divides customers'\n",
        "#credit rating into 7 categories, e.g. A to G. The customers with a credit rating of A\n",
        "#have the highest credit scores. The customers with a credit rating of G have the lowest ones. The customers with a high\n",
        "#credit rating are less likely to default.\n",
        "## Explain your findings\n",
        "\n",
        "spark.sql(\"select grade, count(*)\\\n",
        " from club_loans group by grade order by grade\").show()\n",
        "\n",
        "# Group data by sub_grade\n",
        "spark.sql(\"select sub_grade, count(*)\\\n",
        " from club_loans group by sub_grade\").show()\n",
        "\n",
        "\n",
        "#Grade Distribution: Each grade's total count is displayed for each loan in the dataset, which is grouped by grade. Grades are assigned on a scale from A to G, where \"A\" denotes the greatest credit rating and \"G\" the lowest. The counts for each grade are as follows:\n",
        "\n",
        "#Grade A: 16421 loans\n",
        "#Grade B: 25141 loans\n",
        "#Grade C: 19705 loans\n",
        "#Grade D: 12347 loans\n",
        "#Grade E: 6105 loans\n",
        "#Grade F: 2406 loans\n",
        "#Grade G: 757 loans\n",
        "#Null : 1 Loan\n",
        "#According to these results, most loans are categorised as belonging to grades A, B, and C, with comparatively fewer loans falling into grades D, E, F, and G. Higher grades are indicative of lesser credit risk, which is consistent with the conventional grading system.\n",
        "\n",
        "\n",
        "#Loan Status Distribution: The distribution of loans among various statuses is shown in the loan_status column. The following are important statuses: \"Charged Off,\" \"Current,\" \"Default,\" \"Fully Paid,\" and several delinquent statuses including \"Late (16-30 days)\" and \"Late (31-120 days).\" The counts for each status are as follows:\n",
        "\n",
        "#Charged Off: 45,248 loans\n",
        "#Current: 601,779 loans\n",
        "#Default: 1,219 loans\n",
        "#Fully Paid: 207,723 loans\n",
        "#Others: Various other statuses with smaller counts\n",
        "\n",
        "#These results shed light on the repayment patterns and loan performance within the sample. The fact that just a tiny portion of loans are in default, for example, is noteworthy and suggests generally strong repayment performance. But a substantial percentage of loans carry the designation \"Charged Off,\" indicating that a sizable amount of loans have been written off as losses since they have not been repaid.\n",
        "\n",
        "\n",
        "#Sub-grade Distribution: To provide a more detailed distribution within each grade, the dataset also includes loans classified by sub-grade. Within each grade, the sub-grade is a more detailed classification that reflects differences in credit risk. It displays the number of loans for each sub-grade. As an illustration:\n",
        "\n",
        "#Sub-grade D5: 21,389 loans\n",
        "#Sub-grade F2: 5,392 loans\n",
        "#Sub-grade B4: 55,626 loans\n",
        "\n",
        "#More in-depth understanding of the loan distribution within each grade is provided by this breakdown, which makes lending strategies and risk assessments more accurate.\n"
      ]
    },
    {
      "cell_type": "code",
      "execution_count": null,
      "metadata": {
        "colab": {
          "base_uri": "https://localhost:8080/"
        },
        "id": "rem9kXLE8FcT",
        "outputId": "8708d562-33ee-4b7a-eebc-3c4f7609c4cb"
      },
      "outputs": [
        {
          "output_type": "stream",
          "name": "stdout",
          "text": [
            "+--------+----------------+--------------------+---------------+---------------+\n",
            "|count(1)| avg(annual_inc)|variance(annual_inc)|min(annual_inc)|max(annual_inc)|\n",
            "+--------+----------------+--------------------+---------------+---------------+\n",
            "|  887379|75027.6294879158|4.1858732134060884E9|            0.0|       MORTGAGE|\n",
            "+--------+----------------+--------------------+---------------+---------------+\n",
            "\n"
          ]
        }
      ],
      "source": [
        "# Provide the statistical description of annual income\n",
        "\n",
        "spark.sql(\"SELECT count(*),AVG(annual_inc),\\\n",
        "  VARIANCE(annual_inc), MIN(annual_inc), MAX(annual_inc)\\\n",
        "  FROM club_loans\").show()"
      ]
    },
    {
      "cell_type": "code",
      "execution_count": null,
      "metadata": {
        "colab": {
          "base_uri": "https://localhost:8080/"
        },
        "id": "TU-LUbkOYtdF",
        "outputId": "d6b47916-8569-46cc-c9fd-92c74ecaf724"
      },
      "outputs": [
        {
          "output_type": "stream",
          "name": "stdout",
          "text": [
            "All loans\n",
            "+--------+----------------+--------------------+---------------+---------------+\n",
            "|count(1)| avg(annual_inc)|variance(annual_inc)|min(annual_inc)|max(annual_inc)|\n",
            "+--------+----------------+--------------------+---------------+---------------+\n",
            "|  887379|75027.6294879158|4.1858732134060884E9|            0.0|       MORTGAGE|\n",
            "+--------+----------------+--------------------+---------------+---------------+\n",
            "\n",
            "Deflaut loans\n",
            "+--------+-----------------+--------------------+---------------+---------------+\n",
            "|count(1)|  avg(annual_inc)|variance(annual_inc)|min(annual_inc)|max(annual_inc)|\n",
            "+--------+-----------------+--------------------+---------------+---------------+\n",
            "|    1219|66754.12661197703| 2.781379266540547E9|        10000.0|        98600.0|\n",
            "+--------+-----------------+--------------------+---------------+---------------+\n",
            "\n",
            "Not Deflaut loans\n",
            "+--------+-----------------+--------------------+---------------+---------------+\n",
            "|count(1)|  avg(annual_inc)|variance(annual_inc)|min(annual_inc)|max(annual_inc)|\n",
            "+--------+-----------------+--------------------+---------------+---------------+\n",
            "|  886160|75039.01056685319|4.1877140933567157E9|            0.0|       MORTGAGE|\n",
            "+--------+-----------------+--------------------+---------------+---------------+\n",
            "\n"
          ]
        }
      ],
      "source": [
        "## Compare annual income variable with deflaut and non default status of the loan.\n",
        "\n",
        "print(\"All loans\")\n",
        "\n",
        "spark.sql(\"SELECT count(*),AVG(annual_inc),\\\n",
        "  VARIANCE(annual_inc), MIN(annual_inc), MAX(annual_inc)\\\n",
        "  FROM club_loans\").show()\n",
        "print(\"Deflaut loans\")\n",
        "spark.sql(\"SELECT count(*),AVG(annual_inc),\\\n",
        "  VARIANCE(annual_inc), MIN(annual_inc), MAX(annual_inc)\\\n",
        "  FROM club_loans where loan_status = 'Default'\").show()\n",
        "print(\"Not Deflaut loans\")\n",
        "spark.sql(\"SELECT  count(*),AVG(annual_inc),\\\n",
        "  VARIANCE(annual_inc), MIN(annual_inc), MAX(annual_inc)\\\n",
        "  FROM club_loans where loan_status != 'Default'\").show()"
      ]
    },
    {
      "cell_type": "code",
      "execution_count": null,
      "metadata": {
        "colab": {
          "base_uri": "https://localhost:8080/"
        },
        "id": "UN5K-Ob4Co9U",
        "outputId": "95694a52-0d6a-46c7-cd85-1766c14fafd7"
      },
      "outputs": [
        {
          "output_type": "stream",
          "name": "stdout",
          "text": [
            "All loans\n",
            "+--------+-----------------+-------------------+--------------+--------------+\n",
            "|count(1)|   avg(loan_amnt)|variance(loan_amnt)|min(loan_amnt)|max(loan_amnt)|\n",
            "+--------+-----------------+-------------------+--------------+--------------+\n",
            "|  887379|14755.26460508982|7.115691120113865E7|        1000.0|        9975.0|\n",
            "+--------+-----------------+-------------------+--------------+--------------+\n",
            "\n",
            "Default loans\n",
            "+--------+------------------+-------------------+--------------+--------------+\n",
            "|count(1)|    avg(loan_amnt)|variance(loan_amnt)|min(loan_amnt)|max(loan_amnt)|\n",
            "+--------+------------------+-------------------+--------------+--------------+\n",
            "|    1219|15193.847415914684|6.915519610477778E7|        1000.0|        9975.0|\n",
            "+--------+------------------+-------------------+--------------+--------------+\n",
            "\n",
            "Non-default loans\n",
            "+--------+------------------+-------------------+--------------+--------------+\n",
            "|count(1)|    avg(loan_amnt)|variance(loan_amnt)|min(loan_amnt)|max(loan_amnt)|\n",
            "+--------+------------------+-------------------+--------------+--------------+\n",
            "|  886160|14754.661291414643|7.115947783167224E7|        1000.0|        9975.0|\n",
            "+--------+------------------+-------------------+--------------+--------------+\n",
            "\n"
          ]
        }
      ],
      "source": [
        "## Compare amount of loan variable with deflaut and non default status of the loan.\n",
        "## Similar SQL code from pervious section\n",
        "print(\"All loans\")\n",
        "\n",
        "spark.sql(\"SELECT COUNT(*), AVG(loan_amnt), VARIANCE(loan_amnt), MIN(loan_amnt), MAX(loan_amnt) FROM club_loans\").show()\n",
        "\n",
        "print(\"Default loans\")\n",
        "spark.sql(\"SELECT COUNT(*), AVG(loan_amnt), VARIANCE(loan_amnt), MIN(loan_amnt), MAX(loan_amnt) FROM club_loans WHERE loan_status = 'Default'\").show()\n",
        "\n",
        "print(\"Non-default loans\")\n",
        "spark.sql(\"SELECT COUNT(*), AVG(loan_amnt), VARIANCE(loan_amnt), MIN(loan_amnt), MAX(loan_amnt) FROM club_loans WHERE loan_status != 'Default'\").show()\n",
        "\n"
      ]
    },
    {
      "cell_type": "code",
      "execution_count": null,
      "metadata": {
        "colab": {
          "base_uri": "https://localhost:8080/"
        },
        "id": "KcT-582hHF0f",
        "outputId": "02d5ed1a-1758-4f7e-e054-2cecfa41dd1e"
      },
      "outputs": [
        {
          "output_type": "stream",
          "name": "stdout",
          "text": [
            "+-----+--------+\n",
            "|grade|count(1)|\n",
            "+-----+--------+\n",
            "|    C|     360|\n",
            "|    D|     312|\n",
            "|    E|     201|\n",
            "|    B|     198|\n",
            "|    F|      79|\n",
            "|    A|      47|\n",
            "|    G|      22|\n",
            "+-----+--------+\n",
            "\n"
          ]
        }
      ],
      "source": [
        "# Compare risk garde of Default loans\n",
        "# Explain your finding\n",
        "spark.sql(\"select grade, count(*) from club_loans\\\n",
        " where loan_status = 'Default' group by grade order by count(*) DESC\").show()\n",
        "\n",
        "\n",
        "\n",
        "# Grade Distribution:\n",
        "#\n",
        "# Grade C has the highest count of default loans with 360 instances, followed closely by Grade D with 312 instances.\n",
        "# Grades E and B also have significant default counts, with 201 and 198 instances respectively.\n",
        "# Grades F, A, and G have lower counts of default loans, with 79, 47, and 22 instances respectively.\n",
        "# Risk Assessment:\n",
        "#\n",
        "# The higher counts of default loans in Grades C and D suggest that loans in these categories are relatively riskier compared to others.\n",
        "# Grades E and B also exhibit notable default counts, indicating a moderate level of risk associated with loans in these grades.\n",
        "# Grades F, A, and G have fewer instances of default loans, implying that loans in these grades are comparatively less risky.\n",
        "# Portfolio Management:\n",
        "#\n",
        "# Lenders or investors may use this information to adjust their portfolio strategies. For instance, they might consider diversifying investments away from higher-risk grades (C and D) or implementing stricter eligibility criteria for borrowers falling into these categories.\n",
        "# Conversely, they might allocate more resources to Grade A loans, which have a lower likelihood of default based on the available data.\n",
        "# Monitoring and Mitigation:\n",
        "#\n",
        "# These findings emphasize the importance of ongoing monitoring and risk mitigation measures for loans in higher-risk categories. Lenders may implement proactive measures such as early intervention strategies or adjusting interest rates to mitigate the impact of defaults.\n",
        "# Predictive Modeling:\n",
        "#\n",
        "# The data on default loans across different grades can be used to train predictive models aimed at identifying potential defaulters at an early stage. By leveraging historical patterns and other relevant data, lenders can improve their risk assessment processes and make more informed lending decisions.\n",
        "# In summary, the analysis of default loan distribution across various risk grades provides valuable insights for lenders and investors to optimize their portfolio management strategies, enhance risk assessment techniques, and mitigate potential losses associated with defaults.\n",
        "\n"
      ]
    },
    {
      "cell_type": "code",
      "execution_count": null,
      "metadata": {
        "colab": {
          "base_uri": "https://localhost:8080/"
        },
        "id": "K1GsMzwlC9bh",
        "outputId": "f356661e-b4bd-4b25-bff3-2fc7703751a5"
      },
      "outputs": [
        {
          "output_type": "stream",
          "name": "stdout",
          "text": [
            "+--------------+--------+\n",
            "|home_ownership|count(1)|\n",
            "+--------------+--------+\n",
            "|           OWN|     110|\n",
            "|          RENT|     611|\n",
            "|      MORTGAGE|     498|\n",
            "+--------------+--------+\n",
            "\n"
          ]
        }
      ],
      "source": [
        "# Compare home_ownership of Default loans\n",
        "# Explain your finding\n",
        "## Similar SQL code from pervious section\n",
        "\n",
        "spark.sql(\"SELECT home_ownership, COUNT(*) FROM club_loans WHERE loan_status = 'Default' GROUP BY home_ownership\").show()\n",
        "\n",
        "\n",
        "\n",
        "\n",
        "#1.Home Ownership Distribution among Default Loans: -\n",
        "# Rent: Of the 611 loans in default, most borrowers rent their residences.\n",
        "# Mortgage: A sizable portion of defaulted loans (498 loans) are owed by mortgage-holding borrowers.\n",
        "# Own: Borrowers who own their houses account for a lesser percentage of default loans (110 loans).\n",
        "\n",
        "\n",
        "\n",
        "#2. Interpretation: - Compared to homeowners, renters appear to be more frequently represented among defaulted loans. This may be a sign of a number of things, including unstable finances or increased danger while renting. On the other hand, mortgage holders also exhibit a significant presence in default loans, suggesting that even homeowners may experience difficulties repaying their debts. It's important to remember, too, that compared to renters and mortgage holders, the amount of default loans linked to homeowners who own their homes outright is quite low. This could imply that having a home of one's own could be a factor in lower default rates, but more research is required to be certain of this."
      ]
    },
    {
      "cell_type": "code",
      "execution_count": null,
      "metadata": {
        "colab": {
          "base_uri": "https://localhost:8080/"
        },
        "id": "XhL8fm6tD8wQ",
        "outputId": "e194f6d3-2868-4e75-d80a-fa7219c55724"
      },
      "outputs": [
        {
          "output_type": "stream",
          "name": "stdout",
          "text": [
            "+--------------+-----+----------+-------------------+----------+--------+\n",
            "|home_ownership|grade|addr_state|verification_status|emp_length|count(1)|\n",
            "+--------------+-----+----------+-------------------+----------+--------+\n",
            "|          RENT|    B|        CA|       Not Verified| 10+ years|       4|\n",
            "|          RENT|    B|        NV|    Source Verified| 10+ years|       1|\n",
            "|          RENT|    C|        OK|           Verified| 10+ years|       1|\n",
            "|      MORTGAGE|    E|        IN|    Source Verified|   9 years|       1|\n",
            "|          RENT|    C|        WI|       Not Verified|   2 years|       1|\n",
            "|          RENT|    C|        AZ|    Source Verified|   7 years|       1|\n",
            "|      MORTGAGE|    C|        CO|       Not Verified| 10+ years|       1|\n",
            "|           OWN|    B|        NY|           Verified|  < 1 year|       1|\n",
            "|      MORTGAGE|    C|        NY|       Not Verified|   7 years|       1|\n",
            "|      MORTGAGE|    A|        NY|    Source Verified|    1 year|       1|\n",
            "|          RENT|    C|        NY|           Verified|   2 years|       1|\n",
            "|          RENT|    F|        NY|    Source Verified|   5 years|       1|\n",
            "|          RENT|    B|        CA|    Source Verified|   8 years|       2|\n",
            "|      MORTGAGE|    D|        AZ|       Not Verified|   5 years|       1|\n",
            "|      MORTGAGE|    C|        NV|           Verified|       n/a|       1|\n",
            "|      MORTGAGE|    B|        MO|       Not Verified|   4 years|       1|\n",
            "|      MORTGAGE|    C|        HI|    Source Verified|   7 years|       1|\n",
            "|      MORTGAGE|    D|        TX|           Verified| 10+ years|       3|\n",
            "|      MORTGAGE|    C|        GA|    Source Verified|   8 years|       1|\n",
            "|          RENT|    D|        TX|           Verified|   6 years|       1|\n",
            "+--------------+-----+----------+-------------------+----------+--------+\n",
            "only showing top 20 rows\n",
            "\n"
          ]
        }
      ],
      "source": [
        "# Compare home_ownership,grade,addr_state,verification_status, emp_length of Default loans\n",
        "# Explain your finding\n",
        "spark.sql(\"SELECT home_ownership, grade, addr_state, verification_status, emp_length,\\\n",
        "COUNT(*) FROM club_loans WHERE loan_status = 'Default' GROUP BY home_ownership, grade, addr_state, verification_status, emp_length\").show()\n",
        "\n",
        "\n",
        "\n",
        "\n",
        "\n",
        "#The provided SQL query output presents the distribution of default loans across various categories such as home ownership, grade, address state, verification status, and employment length. Here are the key findings:\n",
        "#\n",
        "#Home Ownership:\n",
        "#Renters represent a significant portion of default loans, with various grades and employment lengths.\n",
        "#Mortgage holders also contribute to default loans, although to a lesser extent compared to renters.\n",
        "#\n",
        "#\n",
        "#Grade:\n",
        "#Grades C and D are prominent among default loans across different home ownership statuses and address states.\n",
        "#Grades A, B, E, and F are also present but to a lesser extent.\n",
        "#\n",
        "#\n",
        "#Address State:\n",
        "#Default loans are distributed across different states, with no single state dominating the default loan count.\n",
        "#Further analysis may be required to identify any patterns or trends specific to certain states.\n",
        "#\n",
        "#\n",
        "#Verification Status and Employment Length:\n",
        "#Default loans are observed across various verification statuses and employment lengths.\n",
        "#Interestingly, some default loans have missing or non-standard employment length values (e.g., 'n/a', '< 1 year'), indicating potential data quality issues.\n",
        "#\n",
        "#\n",
        "#Interpretation:\n",
        "#Renters and borrowers with lower-grade loans (C and D) seem to be more prone to default, suggesting higher risk associated with these groups.\n",
        "#The presence of default loans across different states and employment lengths underscores the need for a comprehensive risk assessment strategy that considers multiple factors beyond a single criterion."
      ]
    },
    {
      "cell_type": "code",
      "execution_count": null,
      "metadata": {
        "colab": {
          "base_uri": "https://localhost:8080/"
        },
        "id": "BjfP3l6tEIc3",
        "outputId": "17f14d89-feca-4788-a38d-f3712e34089f"
      },
      "outputs": [
        {
          "output_type": "stream",
          "name": "stdout",
          "text": [
            "+---------+---------+-----------+---------------+----------+--------+-----------+-----+---------+----------+--------------+----------+-------------------+--------+-----------+---------+-------------+-----------+---------------+---------------+---------------+\n",
            "|member_id|loan_amnt|funded_amnt|funded_amnt_inv|      term|int_rate|installment|grade|sub_grade|emp_length|home_ownership|annual_inc|verification_status| issue_d|loan_status|out_prncp|out_prncp_inv|total_pymnt|total_pymnt_inv|total_rec_prncp|last_pymnt_amnt|\n",
            "+---------+---------+-----------+---------------+----------+--------+-----------+-----+---------+----------+--------------+----------+-------------------+--------+-----------+---------+-------------+-----------+---------------+---------------+---------------+\n",
            "| 43712536|  15000.0|    15000.0|        15000.0| 36 months|    6.39|     458.99|    A|       A2|       n/a|      MORTGAGE|   49939.0|           Verified|Feb-2015|    Default| 12694.81|     12694.81|    2748.62|        2748.62|        2305.19|         458.99|\n",
            "| 33079156|   6250.0|     6250.0|         6250.0| 36 months|    6.49|     191.53|    A|       A2|   2 years|          RENT|   30000.0|       Not Verified|Oct-2014|    Default|  4633.78|      4633.78|    1919.83|        1919.83|        1616.22|         191.53|\n",
            "| 13308414|   9000.0|     9000.0|         9000.0| 36 months|     8.9|     285.78|    A|       A5|   2 years|          RENT|   25000.0|       Not Verified|Feb-2014|    Default|  4798.81|      4798.81|    5164.57|        5164.57|        4201.19|         285.78|\n",
            "| 21308391|   8000.0|     8000.0|         8000.0| 36 months|    8.39|     252.14|    A|       A5|   9 years|      MORTGAGE|  115000.0|       Not Verified|Jun-2014|    Default|  5125.71|      5125.71|    3529.96|        3529.96|        2874.29|         252.14|\n",
            "| 17613316|  20000.0|    20000.0|        20000.0| 36 months|     8.9|     635.07|    A|       A5| 10+ years|          RENT|   50000.0|    Source Verified|May-2014|    Default| 12307.45|     12307.45|    9526.05|        9526.05|        7692.55|         635.07|\n",
            "| 49534400|  14400.0|    14400.0|        14400.0| 36 months|    6.92|     444.11|    A|       A4|   4 years|          RENT|   75000.0|    Source Verified|Apr-2015|    Default| 12943.18|     12943.18|     1770.9|         1770.9|        1456.82|         444.11|\n",
            "| 15030977|   5000.0|     5000.0|         5000.0| 36 months|     7.9|     156.46|    A|       A4|       n/a|           OWN|   30000.0|    Source Verified|Mar-2014|    Default|  2785.42|      2785.42|    2659.82|        2659.82|        2214.58|         156.46|\n",
            "| 22209599|   8000.0|     8000.0|         8000.0| 36 months|    7.12|     247.46|    A|       A3| 10+ years|          RENT|   55000.0|           Verified|Oct-2014|    Default|  5945.81|      5945.81|    2468.27|        2468.27|        2054.19|         247.46|\n",
            "| 24645120|  22400.0|    22400.0|        22400.0| 36 months|    7.69|     698.74|    A|       A4| 10+ years|          RENT|  110000.0|           Verified|Sep-2014|    Default| 16093.38|     16093.38|    7686.14|        7686.14|        6306.62|         698.74|\n",
            "| 23514123|  17500.0|    17500.0|        17500.0| 36 months|    8.39|     551.55|    A|       A5| 10+ years|      MORTGAGE|   78800.0|       Not Verified|Jul-2014|    Default| 11715.65|     11715.65|    7197.73|        7197.73|        5784.35|         1103.1|\n",
            "| 43406756|  15000.0|    15000.0|        15000.0| 36 months|    8.19|     471.37|    A|       A5|   7 years|          RENT|   92000.0|    Source Verified|Feb-2015|    Default| 12747.91|     12747.91|     2821.4|         2821.4|        2252.09|         471.37|\n",
            "|  4150386|  28000.0|    28000.0|        27975.0| 36 months|    7.62|     872.52|    A|       A3|   5 years|      MORTGAGE|   80000.0|           Verified|Feb-2013|    Default|  5136.27|      5131.61|   26156.64|       26133.38|       22863.73|         872.52|\n",
            "| 37476062|   6000.0|     6000.0|         6000.0| 36 months|    7.49|     186.61|    A|       A4|   3 years|          RENT|   89500.0|    Source Verified|Nov-2014|    Default|  4623.55|      4623.55|     1674.5|         1674.5|        1376.45|         186.61|\n",
            "| 27740276|  15000.0|    15000.0|        14900.0| 36 months|    8.39|     472.75|    A|       A5|   3 years|      MORTGAGE|   58000.0|       Not Verified|Aug-2014|    Default| 10411.72|     10342.31|     5673.0|        5635.18|        4588.28|         472.75|\n",
            "| 43277656|  10800.0|    10800.0|        10800.0| 36 months|    8.19|     339.39|    A|       A5|   5 years|          RENT|   96000.0|       Not Verified|Feb-2015|    Default|  9178.48|      9178.48|    2037.26|        2037.26|        1621.52|         350.14|\n",
            "|  8230051|  15000.0|    15000.0|        15000.0| 36 months|     7.9|     469.36|    A|       A4|  < 1 year|          RENT|   62500.0|    Source Verified|Aug-2013|    Default|  5400.32|      5400.32|   11262.12|       11262.12|        9599.68|         469.36|\n",
            "| 38469576|   7000.0|     7000.0|         7000.0| 36 months|    6.99|     216.11|    A|       A3|   2 years|      MORTGAGE|   50000.0|    Source Verified|Nov-2014|    Default|  5384.71|      5384.71|    1942.27|        1942.27|        1615.29|         216.11|\n",
            "| 20698304|  10000.0|    10000.0|        10000.0| 36 months|    8.39|     315.17|    A|       A5|   9 years|          RENT|   39000.0|    Source Verified|Jun-2014|    Default|  6405.97|      6405.97|    4434.15|        4434.15|        3594.03|         336.94|\n",
            "| 42273040|  20000.0|    20000.0|        20000.0| 36 months|    8.19|     628.49|    A|       A5| 10+ years|      MORTGAGE|   80000.0|    Source Verified|Jan-2015|    Default| 16484.75|     16484.75|    4390.33|        4390.33|        3515.25|         628.49|\n",
            "| 57578074|  15000.0|    15000.0|        15000.0| 36 months|    7.89|     469.29|    A|       A5|   5 years|           OWN|  120000.0|    Source Verified|Jul-2015|    Default| 14629.33|     14629.33|     462.71|         462.71|         370.67|         469.29|\n",
            "+---------+---------+-----------+---------------+----------+--------+-----------+-----+---------+----------+--------------+----------+-------------------+--------+-----------+---------+-------------+-----------+---------------+---------------+---------------+\n",
            "only showing top 20 rows\n",
            "\n"
          ]
        }
      ],
      "source": [
        "# Write your own SQL code to identify default loan\n",
        "\n",
        "spark.sql(\"SELECT member_id,loan_amnt,funded_amnt,funded_amnt_inv, term,int_rate,installment,\\\n",
        "grade,sub_grade,emp_length,home_ownership,annual_inc,verification_status,issue_d,loan_status, out_prncp,out_prncp_inv,\\\n",
        "total_pymnt,total_pymnt_inv,total_rec_prncp,last_pymnt_amnt FROM club_loans WHERE loan_status = 'Default' ORDER BY grade, addr_state, verification_status,emp_length, home_ownership\").show()"
      ]
    },
    {
      "cell_type": "code",
      "execution_count": null,
      "metadata": {
        "id": "tzTCdSRwLt0U"
      },
      "outputs": [],
      "source": []
    },
    {
      "cell_type": "markdown",
      "source": [
        "#TEXT MINING"
      ],
      "metadata": {
        "id": "cFP-jg5pZLqf"
      }
    },
    {
      "cell_type": "code",
      "execution_count": null,
      "metadata": {
        "id": "QnswJyvMWZiA"
      },
      "outputs": [],
      "source": [
        "# These are functions of preprocessing of text mining,\n",
        "# Write few words about the process and functions\n",
        "\n",
        "document_assembler = DocumentAssembler() \\\n",
        "    .setInputCol(\"desc\") \\\n",
        "    .setOutputCol(\"document\")# convert document to array of tokens\n",
        "tokenizer = Tokenizer() \\\n",
        "  .setInputCols([\"document\"]) \\\n",
        "  .setOutputCol(\"token\")\n",
        "\n",
        "# clean tokens\n",
        "normalizer = Normalizer() \\\n",
        "    .setInputCols([\"token\"]) \\\n",
        "    .setOutputCol(\"normalized\")# remove stopwords\n",
        "stopwords_cleaner = StopWordsCleaner()\\\n",
        "      .setInputCols(\"normalized\")\\\n",
        "      .setOutputCol(\"cleanTokens\")\\\n",
        "      .setCaseSensitive(False)# stems tokens to bring it to root form\n",
        "stemmer = Stemmer() \\\n",
        "    .setInputCols([\"cleanTokens\"]) \\\n",
        "    .setOutputCol(\"stem\")# Convert custom document structure to array of tokens.\n",
        "finisher = Finisher() \\\n",
        "    .setInputCols([\"stem\"]) \\\n",
        "    .setOutputCols([\"token_features\"]) \\\n",
        "    .setOutputAsArray(True) \\\n",
        "    .setCleanAnnotations(False)# To generate Term Frequency\n",
        "ngram = NGram(n=3, inputCol=\"token_features\", outputCol=\"token_features1\")\n",
        "\n",
        "hashingTF = HashingTF(inputCol=\"token_features1\", outputCol=\"rawFeatures\", numFeatures=1000)# To generate Inverse Document Frequency\n",
        "idf = IDF(inputCol=\"rawFeatures\", outputCol=\"features\", minDocFreq=100)# convert labels (string) to integers. Easy to process compared to string.\n",
        "#label_stringIdx = StringIndexer(inputCol = \"category\", outputCol = \"label\")# define a simple Multinomial logistic regression model. Try different combination of hyperparameters and see what suits your data. You can also try different algorithms and compare the scores.\n",
        "#label_to_stringIdx = IndexToString(inputCol=\"label\", outputCol=\"article_class\")# define the nlp pipeline\n"
      ]
    },
    {
      "cell_type": "markdown",
      "metadata": {
        "id": "zBUVQm5Vgyhc"
      },
      "source": [
        "This code is a part of a machine learning pipeline that processes text data. It uses various techniques such as tokenization, normalization, stemming, and n-gramming to convert the text data into a numerical representation that can be fed into a machine learning model.\n",
        "The code starts by defining a DocumentAssembler, which is a Spark MLlib class that converts a document into an array of tokens. The input column is \"desc\" and the output column is \"document\".\n",
        "Next, it defines a Tokenizer, which is a Spark MLlib class that converts a document into an array of tokens. The input column is \"document\" and the output column is \"token\".\n",
        "Then, it defines a Normalizer, which is a Spark MLlib class that removes stopwords from a tokenized document. The input column is \"token\" and the output column is \"normalized\".\n",
        "After that, it defines a StopWordsCleaner, which is a Spark MLlib class that removes stopwords from a tokenized document. The input column is \"normalized\" and the output column is \"cleanTokens\".\n",
        "Next, it defines a Stemmer, which is a Spark MLlib class that stems tokens to bring them to their root form. The input column is \"cleanTokens\" and the output column is \"stem\".\n",
        "Finally, it defines a Finisher, which is a Spark MLlib class that converts the output of the stemmer into an array of tokens. The input column is \"stem\" and the output column is \"token_features\".\n",
        "The code also defines an NGram, which is a Spark MLlib class that generates n-grams from a tokenized document. The input column is \"token_features\" and the output column is \"token_features1\".\n",
        "The code also defines a HashingTF, which is a Spark MLlib class that converts the output of the NGram into a numerical representation. The input column is \"token_features1\" and the output column is \"rawFeatures\". The number of features is set to 1000.\n",
        "Related"
      ]
    },
    {
      "cell_type": "code",
      "execution_count": null,
      "metadata": {
        "id": "lvyTPXwWW_qE"
      },
      "outputs": [],
      "source": []
    },
    {
      "cell_type": "code",
      "execution_count": null,
      "metadata": {
        "id": "1WhwMnl_gZQh"
      },
      "outputs": [],
      "source": []
    },
    {
      "cell_type": "code",
      "execution_count": null,
      "metadata": {
        "id": "44dLd3jQwwvD"
      },
      "outputs": [],
      "source": [
        "nlp_pipeline = Pipeline(\n",
        "    stages=[document_assembler,\n",
        "            tokenizer,\n",
        "            normalizer,\n",
        "            stopwords_cleaner,\n",
        "            stemmer,\n",
        "            finisher,\n",
        "            ngram,\n",
        "            hashingTF,\n",
        "            idf])\n",
        "            #label_stringIdx])"
      ]
    },
    {
      "cell_type": "code",
      "execution_count": null,
      "metadata": {
        "id": "PGmxYsAhjZ4x"
      },
      "outputs": [],
      "source": [
        "model = nlp_pipeline.fit(df_lending_club_loans)\n",
        "result = model.transform(df_lending_club_loans)\n",
        "#result.show(10,False)\n",
        "#result[['features']].show(10,False)\n",
        "#result[['label']].show(10,False)\n",
        "#result.show(2)\n",
        "#data = result.select(['Date','features','Following'])\n",
        "\n",
        "#dtt2 = result.select(['Date','features','Following'])#,'Following','Listed'])#,'rawFeatures'])\n",
        "#na = data[data.'Followers'.isnull()]\n",
        "#na\n",
        "#dtt2.show(5)\n"
      ]
    },
    {
      "cell_type": "code",
      "execution_count": null,
      "metadata": {
        "id": "18EJfTyDxnhW",
        "colab": {
          "base_uri": "https://localhost:8080/"
        },
        "outputId": "3a303155-5d09-4404-a8c0-e3e7710c8afc"
      },
      "outputs": [
        {
          "output_type": "stream",
          "name": "stdout",
          "text": [
            "+-------+---------+---------+-----------+---------------+----------+--------+-----------+-----+---------+---------+----------+--------------+----------+-------------------+--------+-----------+----------+--------------------+--------------------+-----------+--------+--------+----------+-----+-----------+----------------+--------------+----------------------+----------------------+--------+-------+---------+----------+---------+-------------------+---------+-------------+-------------+---------------+---------------+-------------+------------------+----------+-----------------------+------------+---------------+------------+------------------+--------------------------+---------------------------+-----------+----------------+----------------+---------+-------------------------+--------------+------------+-----------+-----------+----------+-----------+-----------+------------------+------------+-------+-----------+-----------+----------+--------+----------------+------+-----------+------------+--------------------+--------------------+--------------------+--------------------+--------------------+--------------------+--------------------+--------------------+--------------------+\n",
            "|     id|member_id|loan_amnt|funded_amnt|funded_amnt_inv|      term|int_rate|installment|grade|sub_grade|emp_title|emp_length|home_ownership|annual_inc|verification_status| issue_d|loan_status|pymnt_plan|                 url|                desc|    purpose|   title|zip_code|addr_state|  dti|delinq_2yrs|earliest_cr_line|inq_last_6mths|mths_since_last_delinq|mths_since_last_record|open_acc|pub_rec|revol_bal|revol_util|total_acc|initial_list_status|out_prncp|out_prncp_inv|  total_pymnt|total_pymnt_inv|total_rec_prncp|total_rec_int|total_rec_late_fee|recoveries|collection_recovery_fee|last_pymnt_d|last_pymnt_amnt|next_pymnt_d|last_credit_pull_d|collections_12_mths_ex_med|mths_since_last_major_derog|policy_code|application_type|annual_inc_joint|dti_joint|verification_status_joint|acc_now_delinq|tot_coll_amt|tot_cur_bal|open_acc_6m|open_il_6m|open_il_12m|open_il_24m|mths_since_rcnt_il|total_bal_il|il_util|open_rv_12m|open_rv_24m|max_bal_bc|all_util|total_rev_hi_lim|inq_fi|total_cu_tl|inq_last_12m|            document|               token|          normalized|         cleanTokens|                stem|      token_features|     token_features1|         rawFeatures|            features|\n",
            "+-------+---------+---------+-----------+---------------+----------+--------+-----------+-----+---------+---------+----------+--------------+----------+-------------------+--------+-----------+----------+--------------------+--------------------+-----------+--------+--------+----------+-----+-----------+----------------+--------------+----------------------+----------------------+--------+-------+---------+----------+---------+-------------------+---------+-------------+-------------+---------------+---------------+-------------+------------------+----------+-----------------------+------------+---------------+------------+------------------+--------------------------+---------------------------+-----------+----------------+----------------+---------+-------------------------+--------------+------------+-----------+-----------+----------+-----------+-----------+------------------+------------+-------+-----------+-----------+----------+--------+----------------+------+-----------+------------+--------------------+--------------------+--------------------+--------------------+--------------------+--------------------+--------------------+--------------------+--------------------+\n",
            "|1077501|  1296599|   5000.0|     5000.0|         4975.0| 36 months|   10.65|     162.87|    B|       B2|     NULL| 10+ years|          RENT|   24000.0|           Verified|Dec-2011| Fully Paid|         n|https://www.lendi...|  Borrower added ...|credit_card|Computer|   860xx|        AZ|27.65|        0.0|        Jan-1985|           1.0|                  NULL|                  NULL|     3.0|    0.0|  13648.0|      83.7|      9.0|                  f|      0.0|          0.0|5861.07141425|        5831.78|         5000.0|       861.07|               0.0|       0.0|                    0.0|    Jan-2015|         171.62|        NULL|          Jan-2016|                       0.0|                       NULL|        1.0|      INDIVIDUAL|            NULL|     NULL|                     NULL|           0.0|        NULL|       NULL|       NULL|      NULL|       NULL|       NULL|              NULL|        NULL|   NULL|       NULL|       NULL|      NULL|    NULL|            NULL|  NULL|       NULL|        NULL|[{document, 0, 77...|[{token, 2, 9, Bo...|[{token, 2, 9, Bo...|[{token, 2, 9, Bo...|[{token, 2, 9, bo...|[borrow, ad, ne, ...|[borrow ad ne, ad...|(1000,[81,236,669...|(1000,[81,236,669...|\n",
            "|1077430|  1314167|   2500.0|     2500.0|         2500.0| 60 months|   15.27|      59.83|    C|       C4|    Ryder|  < 1 year|          RENT|   30000.0|    Source Verified|Dec-2011|Charged Off|         n|https://www.lendi...|  Borrower added ...|        car|    bike|   309xx|        GA|  1.0|        0.0|        Apr-1999|           5.0|                  NULL|                  NULL|     3.0|    0.0|   1687.0|       9.4|      4.0|                  f|      0.0|          0.0|      1008.71|        1008.71|         456.46|       435.17|               0.0|    117.08|                   1.11|    Apr-2013|         119.66|        NULL|          Sep-2013|                       0.0|                       NULL|        1.0|      INDIVIDUAL|            NULL|     NULL|                     NULL|           0.0|        NULL|       NULL|       NULL|      NULL|       NULL|       NULL|              NULL|        NULL|   NULL|       NULL|       NULL|      NULL|    NULL|            NULL|  NULL|       NULL|        NULL|[{document, 0, 58...|[{token, 2, 9, Bo...|[{token, 2, 9, Bo...|[{token, 2, 9, Bo...|[{token, 2, 9, bo...|[borrow, ad, plan...|[borrow ad plan, ...|(1000,[35,94,124,...|(1000,[35,94,124,...|\n",
            "+-------+---------+---------+-----------+---------------+----------+--------+-----------+-----+---------+---------+----------+--------------+----------+-------------------+--------+-----------+----------+--------------------+--------------------+-----------+--------+--------+----------+-----+-----------+----------------+--------------+----------------------+----------------------+--------+-------+---------+----------+---------+-------------------+---------+-------------+-------------+---------------+---------------+-------------+------------------+----------+-----------------------+------------+---------------+------------+------------------+--------------------------+---------------------------+-----------+----------------+----------------+---------+-------------------------+--------------+------------+-----------+-----------+----------+-----------+-----------+------------------+------------+-------+-----------+-----------+----------+--------+----------------+------+-----------+------------+--------------------+--------------------+--------------------+--------------------+--------------------+--------------------+--------------------+--------------------+--------------------+\n",
            "only showing top 2 rows\n",
            "\n"
          ]
        }
      ],
      "source": [
        "result.show(2)"
      ]
    },
    {
      "cell_type": "code",
      "execution_count": null,
      "metadata": {
        "id": "hYyQWIDiZxKg"
      },
      "outputs": [],
      "source": [
        "## you need to replace Na and Null values with zero\n",
        "\n",
        "result=result.na.fill(value=0)\n"
      ]
    },
    {
      "cell_type": "markdown",
      "source": [
        "#DATA TRANSFORMATION"
      ],
      "metadata": {
        "id": "FiFpaoHSZYwJ"
      }
    },
    {
      "cell_type": "code",
      "execution_count": null,
      "metadata": {
        "id": "25l7CiaauO4r",
        "colab": {
          "base_uri": "https://localhost:8080/"
        },
        "outputId": "76e35a07-bfd1-41a3-ad93-6f7126c444d0"
      },
      "outputs": [
        {
          "output_type": "stream",
          "name": "stdout",
          "text": [
            "+-----------+--------------------+\n",
            "|loan_status|            features|\n",
            "+-----------+--------------------+\n",
            "| Fully Paid|(1000,[81,236,669...|\n",
            "|Charged Off|(1000,[35,94,124,...|\n",
            "| Fully Paid|        (1000,[],[])|\n",
            "| Fully Paid|(1000,[141,208,26...|\n",
            "|    Current|(1000,[18,94,116,...|\n",
            "+-----------+--------------------+\n",
            "only showing top 5 rows\n",
            "\n",
            "+---------------------------------------------------------------------------------------------------------------------------------------------------------------------------------------------------------------------------------------------------------------------------------------------------------------------------------------------------------------------------------------------------------------------------------------------------------------------------------------------------------------------------------------------------------------------------------------------------------------------------------------------------------------------------------------------------------------------------------------------------+------------------------------------------------------------------------------------------------------------------------------------------------------------------------------------------------------------------------------------------------------------------------------------------------------------------------------------------------------------------------------------------------------------------------------------------------------------------------------------------------------------------------------------------------------------------------------------------------------------------------------------------------------------------------------------------------------------------------------------------------+\n",
            "|features                                                                                                                                                                                                                                                                                                                                                                                                                                                                                                                                                                                                                                                                                                                                           |Scaled_features                                                                                                                                                                                                                                                                                                                                                                                                                                                                                                                                                                                                                                                                                                                                 |\n",
            "+---------------------------------------------------------------------------------------------------------------------------------------------------------------------------------------------------------------------------------------------------------------------------------------------------------------------------------------------------------------------------------------------------------------------------------------------------------------------------------------------------------------------------------------------------------------------------------------------------------------------------------------------------------------------------------------------------------------------------------------------------+------------------------------------------------------------------------------------------------------------------------------------------------------------------------------------------------------------------------------------------------------------------------------------------------------------------------------------------------------------------------------------------------------------------------------------------------------------------------------------------------------------------------------------------------------------------------------------------------------------------------------------------------------------------------------------------------------------------------------------------------+\n",
            "|(1000,[81,236,669,828],[5.025256300577697,6.213909656370119,5.827774314401622,6.163940436380512])                                                                                                                                                                                                                                                                                                                                                                                                                                                                                                                                                                                                                                                  |(1000,[81,236,669,828],[11.109028101636683,20.907094363575805,17.10906401912075,20.455497172645803])                                                                                                                                                                                                                                                                                                                                                                                                                                                                                                                                                                                                                                            |\n",
            "|(1000,[35,94,124,135,148,214,219,221,240,263,292,333,366,517,521,532,557,612,628,654,662,711,741,743,754,755,780,838,926,927,939,977],[11.880522819638474,10.113589525193944,11.9290731013531,5.98716897887506,11.860918997649836,5.888111950995826,5.777763893826961,6.142741974321815,12.151627618695558,9.826797850003071,11.67709558595941,12.320396234247735,5.919493551736994,12.387684186638621,6.108718073899619,6.131271567016506,6.092629240181565,5.794651226129619,10.59298686394846,5.685005200735794,12.006917863708658,11.724856712522262,12.321463754956293,5.976898739015502,6.025600057731542,5.8991482371387125,6.131790104751744,6.075323493083973,12.288632729141849,12.086016332236092,12.330024495688638,12.27502367375318])|(1000,[35,94,124,135,148,214,219,221,240,263,292,333,366,517,521,532,557,612,628,654,662,711,741,743,754,755,780,838,926,927,939,977],[36.39796266535892,23.138238669032962,33.59281201931411,18.65124365865951,36.31747189064693,17.851453280363128,16.938612956057437,20.350971491432077,38.750207500778,21.23768480994641,34.63021199676299,41.31215449811106,17.953801150704663,42.00176914872631,20.128104616735556,20.294727071643695,19.91185639824692,17.02341810729959,26.59155900434194,16.080144541794997,37.50759834292832,34.669359624749085,41.19365668112445,18.600692261671202,19.327627208978072,17.84138478071356,20.086231226430503,19.3099417405138,40.263269658412426,38.50090687055337,41.23284101457866,40.254616331089])|\n",
            "|(1000,[],[])                                                                                                                                                                                                                                                                                                                                                                                                                                                                                                                                                                                                                                                                                                                                       |(1000,[],[])                                                                                                                                                                                                                                                                                                                                                                                                                                                                                                                                                                                                                                                                                                                                    |\n",
            "|(1000,[141,208,267,325,345,419,431,489,529,643,693,715,745,795,840,856,909,917,995],[6.169849666576089,6.051587818365669,6.127132916515239,5.7225286158976045,4.183881361448875,6.01400706909536,6.112781055618873,6.27844817750769,5.993472466653652,5.854535655462222,5.935987899041855,6.055905407226871,6.184503931531369,6.151696471868546,6.274252786277588,5.876794126063165,5.9376951124313235,6.144841712626086,5.777036091756989])                                                                                                                                                                                                                                                                                                       |(1000,[141,208,267,325,345,419,431,489,529,643,693,715,745,795,840,856,909,917,995],[20.635982937435045,19.258259322323834,20.13683701428719,16.21149117588871,7.109386938492446,19.069389100738434,19.987221287274505,21.7627204129105,18.980923877063635,17.604988887226472,17.433079411900437,19.429182265812205,20.700158657092448,20.538344515018437,21.82112195813089,17.363509660332983,17.75783347768236,20.29421984966784,17.03518815491082])                                                                                                                                                                                                                                                                                          |\n",
            "|(1000,[18,94,116,192,254,302,339,345,348,361,383,412,439,498,513,637,651,710,738,760,870,886,902,908,910,919,970,989,998],[6.197712709155254,5.056794762596972,3.8875112649773333,6.243626128698597,5.769787056751273,6.215600273848027,6.154345480040123,4.183881361448875,6.19549909452694,6.020018647893347,6.281455698571646,6.0976292505982705,6.0554247535286,5.921593069619277,6.138033621391429,6.118394747319507,6.002546939087059,6.129717565149772,6.180684008741799,5.906574013835562,6.215600273848027,5.988965924551762,6.113290091007824,6.250611023220547,6.181773927105825,6.183411035247724,6.2088548857084955,6.18505082790814,5.930459498824918])                                                                              |(1000,[18,94,116,192,254,302,339,345,348,361,383,412,439,498,513,637,651,710,738,760,870,886,902,908,910,919,970,989,998],[20.76502856665262,11.569119334516481,6.36169159644353,21.60873612295457,16.4922269390054,20.932823368777125,20.331664806168536,7.109386938492446,20.861443360781504,19.484138282955865,21.809194394584583,19.590903289860474,18.970894366507057,18.058693828198244,20.228940086146984,19.85811515091513,18.67260588589011,20.47107432256663,20.745307968293062,18.01952471085636,21.163689902570617,18.713646896449827,19.539396957627716,21.194886522772677,20.851655155715324,20.861791840957533,21.116025226596953,20.790623633457553,18.257240584242705])                                                        |\n",
            "+---------------------------------------------------------------------------------------------------------------------------------------------------------------------------------------------------------------------------------------------------------------------------------------------------------------------------------------------------------------------------------------------------------------------------------------------------------------------------------------------------------------------------------------------------------------------------------------------------------------------------------------------------------------------------------------------------------------------------------------------------+------------------------------------------------------------------------------------------------------------------------------------------------------------------------------------------------------------------------------------------------------------------------------------------------------------------------------------------------------------------------------------------------------------------------------------------------------------------------------------------------------------------------------------------------------------------------------------------------------------------------------------------------------------------------------------------------------------------------------------------------+\n",
            "only showing top 5 rows\n",
            "\n"
          ]
        }
      ],
      "source": [
        "data = result.select(['loan_status','features'])\n",
        "data.show(5)\n",
        "#Standard Sclarizer\n",
        "#So we have created a feature vector. Now let us use StandardScaler to scalerize the newly created “feature” column\n",
        "from pyspark.ml.feature import StandardScaler\n",
        "standardscaler=StandardScaler().setInputCol(\"features\").setOutputCol(\"Scaled_features\")\n",
        "data=standardscaler.fit(data).transform(data)\n",
        "data.select(\"features\",\"Scaled_features\").show(5,False)\n",
        "\n",
        "#from pyspark.ml.feature import ChiSqSelector\n",
        "#css = ChiSqSelector(featuresCol='features', outputCol='Selected_features', labelCol='grade', fpr=0.05)\n",
        "#data = css.fit(data).transform(data)\n",
        "#data.select(\"features\", \"Selected_features\").show(5, False)\n"
      ]
    },
    {
      "cell_type": "code",
      "execution_count": null,
      "metadata": {
        "colab": {
          "base_uri": "https://localhost:8080/"
        },
        "id": "P6SUMSWe1qR5",
        "outputId": "8f03bc91-73e6-4dc2-fe50-78f300df2975"
      },
      "outputs": [
        {
          "output_type": "stream",
          "name": "stdout",
          "text": [
            "+---------------------------------------------------------------------------------------------------------------------------------------------------------------------------------------------------------------------------------------------------------------------------------------------------------------------------------------------------------------------------------------------------------------------------------------------------------------------------------------------------------------------------------------------------------------------------------------------------------------------------------------------------------------------------------------------------------------------------------------------------+-----------------------------+\n",
            "|features                                                                                                                                                                                                                                                                                                                                                                                                                                                                                                                                                                                                                                                                                                                                           |Selected_features            |\n",
            "+---------------------------------------------------------------------------------------------------------------------------------------------------------------------------------------------------------------------------------------------------------------------------------------------------------------------------------------------------------------------------------------------------------------------------------------------------------------------------------------------------------------------------------------------------------------------------------------------------------------------------------------------------------------------------------------------------------------------------------------------------+-----------------------------+\n",
            "|(1000,[81,236,669,828],[5.025256300577697,6.213909656370119,5.827774314401622,6.163940436380512])                                                                                                                                                                                                                                                                                                                                                                                                                                                                                                                                                                                                                                                  |(50,[],[])                   |\n",
            "|(1000,[35,94,124,135,148,214,219,221,240,263,292,333,366,517,521,532,557,612,628,654,662,711,741,743,754,755,780,838,926,927,939,977],[11.880522819638474,10.113589525193944,11.9290731013531,5.98716897887506,11.860918997649836,5.888111950995826,5.777763893826961,6.142741974321815,12.151627618695558,9.826797850003071,11.67709558595941,12.320396234247735,5.919493551736994,12.387684186638621,6.108718073899619,6.131271567016506,6.092629240181565,5.794651226129619,10.59298686394846,5.685005200735794,12.006917863708658,11.724856712522262,12.321463754956293,5.976898739015502,6.025600057731542,5.8991482371387125,6.131790104751744,6.075323493083973,12.288632729141849,12.086016332236092,12.330024495688638,12.27502367375318])|(50,[35],[36.39796266535892])|\n",
            "|(1000,[],[])                                                                                                                                                                                                                                                                                                                                                                                                                                                                                                                                                                                                                                                                                                                                       |(50,[],[])                   |\n",
            "|(1000,[141,208,267,325,345,419,431,489,529,643,693,715,745,795,840,856,909,917,995],[6.169849666576089,6.051587818365669,6.127132916515239,5.7225286158976045,4.183881361448875,6.01400706909536,6.112781055618873,6.27844817750769,5.993472466653652,5.854535655462222,5.935987899041855,6.055905407226871,6.184503931531369,6.151696471868546,6.274252786277588,5.876794126063165,5.9376951124313235,6.144841712626086,5.777036091756989])                                                                                                                                                                                                                                                                                                       |(50,[],[])                   |\n",
            "|(1000,[18,94,116,192,254,302,339,345,348,361,383,412,439,498,513,637,651,710,738,760,870,886,902,908,910,919,970,989,998],[6.197712709155254,5.056794762596972,3.8875112649773333,6.243626128698597,5.769787056751273,6.215600273848027,6.154345480040123,4.183881361448875,6.19549909452694,6.020018647893347,6.281455698571646,6.0976292505982705,6.0554247535286,5.921593069619277,6.138033621391429,6.118394747319507,6.002546939087059,6.129717565149772,6.180684008741799,5.906574013835562,6.215600273848027,5.988965924551762,6.113290091007824,6.250611023220547,6.181773927105825,6.183411035247724,6.2088548857084955,6.18505082790814,5.930459498824918])                                                                              |(50,[18],[20.76502856665262])|\n",
            "+---------------------------------------------------------------------------------------------------------------------------------------------------------------------------------------------------------------------------------------------------------------------------------------------------------------------------------------------------------------------------------------------------------------------------------------------------------------------------------------------------------------------------------------------------------------------------------------------------------------------------------------------------------------------------------------------------------------------------------------------------+-----------------------------+\n",
            "only showing top 5 rows\n",
            "\n"
          ]
        }
      ],
      "source": [
        "from pyspark.ml.feature import StringIndexer, OneHotEncoder\n",
        "from pyspark.ml import Pipeline\n",
        "\n",
        "# Define stages for encoding 'grade' column\n",
        "string_indexer = StringIndexer(inputCol='loan_status', outputCol='loan_statusIndex', handleInvalid=\"skip\")\n",
        "one_hot_encoder = OneHotEncoder(inputCol='loan_statusIndex', outputCol='loan_status_encoded')\n",
        "\n",
        "# Create encoding pipeline\n",
        "encoding_pipeline = Pipeline(stages=[string_indexer, one_hot_encoder])\n",
        "encoded_data = encoding_pipeline.fit(data).transform(data)\n"
      ]
    },
    {
      "cell_type": "code",
      "execution_count": null,
      "metadata": {
        "id": "0qdxuUebzprx"
      },
      "outputs": [],
      "source": []
    },
    {
      "cell_type": "markdown",
      "source": [
        "#MACHINE LEARNIG MODEL FITTING"
      ],
      "metadata": {
        "id": "LvpNzmKVZifa"
      }
    },
    {
      "cell_type": "code",
      "source": [
        "\n",
        "from pyspark.ml.feature import VectorAssembler\n",
        "assembler = VectorAssembler(inputCols=[\"indexed_features\"], outputCol=\"assembled_features\")\n",
        "\n",
        "# Transform the data using the VectorAssembler\n",
        "assembled_data = assembler.transform(indexed_data)"
      ],
      "metadata": {
        "id": "VpzDPoMRECaJ"
      },
      "execution_count": null,
      "outputs": []
    },
    {
      "cell_type": "code",
      "source": [
        "## Create train and test sets\n",
        "train, test = encoded_data.randomSplit([0.8, 0.2], seed=12345)"
      ],
      "metadata": {
        "id": "_xKl7pZR9PLN"
      },
      "execution_count": null,
      "outputs": []
    },
    {
      "cell_type": "code",
      "execution_count": null,
      "metadata": {
        "colab": {
          "base_uri": "https://localhost:8080/"
        },
        "id": "rN0sr-QqxgMR",
        "outputId": "1528d227-f93d-41de-d373-f378aba2ea59"
      },
      "outputs": [
        {
          "output_type": "stream",
          "name": "stdout",
          "text": [
            "+-----------+------------+---------------+----------------+-------------------+--------------------+--------------------+----------+\n",
            "|loan_status|    features|Scaled_features|loan_statusIndex|loan_status_encoded|       rawPrediction|         probability|prediction|\n",
            "+-----------+------------+---------------+----------------+-------------------+--------------------+--------------------+----------+\n",
            "|Charged Off|(1000,[],[])|   (1000,[],[])|             2.0|     (10,[2],[1.0])|[7.03162626626183...|[0.70316262662618...|       0.0|\n",
            "|Charged Off|(1000,[],[])|   (1000,[],[])|             2.0|     (10,[2],[1.0])|[7.03162626626183...|[0.70316262662618...|       0.0|\n",
            "+-----------+------------+---------------+----------------+-------------------+--------------------+--------------------+----------+\n",
            "only showing top 2 rows\n",
            "\n",
            "Error = 0.309338\n",
            "Accuracy = 0.690662\n",
            "Precision: 0.64796587855818\n",
            "Recall: 0.6906619398688087\n"
          ]
        }
      ],
      "source": [
        "#Model 1\n",
        "### Run a Random Forest model with default parameters with orginal features\n",
        "rf = RandomForestClassifier(labelCol=\"loan_statusIndex\", featuresCol=\"Scaled_features\", numTrees=10, maxDepth=10)\n",
        "RFModel = rf.fit(train)\n",
        "transformed = RFModel.transform(test)\n",
        "transformed.show(2)\n",
        "evaluator = MulticlassClassificationEvaluator(labelCol=\"loan_statusIndex\", predictionCol=\"prediction\",metricName=\"accuracy\")\n",
        "\n",
        "# compute the classification error on test data.\n",
        "accuracy = evaluator.evaluate(transformed)\n",
        "weighted_precision = evaluator.evaluate(transformed, {evaluator.metricName: \"weightedPrecision\"})\n",
        "weighted_recall = evaluator.evaluate(transformed, {evaluator.metricName: \"weightedRecall\"})\n",
        "print(\"Error = %g\" % (1.0 - accuracy))\n",
        "print(\"Accuracy = %g\" % ( accuracy))\n",
        "print (\"Precision:\", weighted_precision)\n",
        "print (\"Recall:\", weighted_recall)"
      ]
    },
    {
      "cell_type": "code",
      "execution_count": null,
      "metadata": {
        "colab": {
          "base_uri": "https://localhost:8080/"
        },
        "id": "Qbn0_N05nEZp",
        "outputId": "668c59a4-fa0a-4688-ba04-066ae3df1cb6"
      },
      "outputs": [
        {
          "output_type": "stream",
          "name": "stdout",
          "text": [
            "+-----------+----------+\n",
            "|loan_status|prediction|\n",
            "+-----------+----------+\n",
            "|Charged Off|       0.0|\n",
            "|Charged Off|       0.0|\n",
            "|Charged Off|       0.0|\n",
            "|Charged Off|       0.0|\n",
            "|Charged Off|       0.0|\n",
            "+-----------+----------+\n",
            "only showing top 5 rows\n",
            "\n",
            "Error = 0.292465\n",
            "Accuracy = 0.707535\n",
            "Precision: 0.6296604659076002\n",
            "Recall: 0.7075350276043489\n"
          ]
        }
      ],
      "source": [
        "#Model 2\n",
        "### Run a logistic regression model with default parameters with orginal features\n",
        "\n",
        "\n",
        "lr = LogisticRegression(labelCol=\"loan_statusIndex\", featuresCol=\"Scaled_features\",maxIter=10, regParam=0.3, elasticNetParam=0.0)# To convert index(integer) to corresponding class labels\n",
        "lrModel=lr.fit(train)\n",
        "result = lrModel.transform(test)\n",
        "predict_test=lrModel.transform(test)\n",
        "predict_test.select(\"loan_status\",\"prediction\").show(5)\n",
        "\n",
        "# obtain evaluator.\n",
        "evaluator = MulticlassClassificationEvaluator(labelCol=\"loan_statusIndex\", predictionCol=\"prediction\",metricName=\"accuracy\")\n",
        "\n",
        "# compute the classification error on test data.\n",
        "accuracy = evaluator.evaluate(predict_test)\n",
        "weighted_precision = evaluator.evaluate(predict_test, {evaluator.metricName: \"weightedPrecision\"})\n",
        "weighted_recall = evaluator.evaluate(predict_test, {evaluator.metricName: \"weightedRecall\"})\n",
        "print(\"Error = %g\" % (1.0 - accuracy))\n",
        "print(\"Accuracy = %g\" % ( accuracy))\n",
        "print (\"Precision:\", weighted_precision)\n",
        "print (\"Recall:\", weighted_recall)\n",
        "\n"
      ]
    }
  ],
  "metadata": {
    "colab": {
      "provenance": [],
      "include_colab_link": true
    },
    "kernelspec": {
      "display_name": "Python 3",
      "name": "python3"
    }
  },
  "nbformat": 4,
  "nbformat_minor": 0
}